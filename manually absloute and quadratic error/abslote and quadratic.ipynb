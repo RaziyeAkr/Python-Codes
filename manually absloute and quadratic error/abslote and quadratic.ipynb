{
 "cells": [
  {
   "cell_type": "markdown",
   "metadata": {
    "id": "E1LNRp620Yzy"
   },
   "source": [
    "# Machine learning project\n",
    " "
   ]
  },
  {
   "cell_type": "markdown",
   "metadata": {},
   "source": [
    "Suppose you have the following dataset for a regression problem.<br> Build a linear model for this dataset and predict the y column based on the x inputs.<br> Repeat the calculations manually for three iterations and finally get the equation of the line. You can use the numpy.<br> random facility to initialize the weights.<br> To calculate the prediction error from the actual values, use the quadratic error and then the absolute error and draw both lines on the data."
   ]
  },
  {
   "cell_type": "markdown",
   "metadata": {},
   "source": [
    "<a><img src =\"https://maktabkhooneh.org/media/uploads/Screenshot_2022-03-08_160808.jpg\" width = 200></a>"
   ]
  },
  {
   "cell_type": "markdown",
   "metadata": {},
   "source": [
    "**importing libraris**"
   ]
  },
  {
   "cell_type": "code",
   "execution_count": 1,
   "metadata": {},
   "outputs": [],
   "source": [
    "import numpy as np\n",
    "import matplotlib.pyplot as plt"
   ]
  },
  {
   "cell_type": "markdown",
   "metadata": {},
   "source": [
    "**insert inputs as x and output as y**"
   ]
  },
  {
   "cell_type": "code",
   "execution_count": 19,
   "metadata": {
    "colab": {
     "base_uri": "https://localhost:8080/"
    },
    "id": "mbX_d81F05uI",
    "outputId": "24a20374-a56b-415b-9de7-9bab121d9d92"
   },
   "outputs": [
    {
     "name": "stdout",
     "output_type": "stream",
     "text": [
      "len of x 3 and y 3 array\n"
     ]
    }
   ],
   "source": [
    "x_input = [1.2,2.5,3.6]\n",
    "y_output = [8.5,9.2,10.1]\n",
    "print(\"len of x {} and y {} array\".format(len(x),len(y)))"
   ]
  },
  {
   "cell_type": "markdown",
   "metadata": {},
   "source": [
    "**Initial weights**"
   ]
  },
  {
   "cell_type": "code",
   "execution_count": 24,
   "metadata": {
    "colab": {
     "base_uri": "https://localhost:8080/"
    },
    "id": "JZ3DPU1Y1s0x",
    "outputId": "6e1ad74c-e962-4178-9115-692eab8ba583"
   },
   "outputs": [
    {
     "name": "stdout",
     "output_type": "stream",
     "text": [
      "0.99 0.24\n"
     ]
    }
   ],
   "source": [
    "bias = (np.around(np.random.uniform(size=1), decimals=2))[0]\n",
    "weight = (np.around(np.random.uniform(size=1),decimals=2))[0]\n",
    "print(bias,weight)"
   ]
  },
  {
   "cell_type": "markdown",
   "metadata": {},
   "source": [
    "function for calcute quadratic_error<br>\n",
    "we need initial bias and weight and x,y list for input and output  and learning rate for set step size at each iteration.<br>\n",
    "We use the derivative of the loss calculation function so that we can update the weight for the next period.<br>\n",
    "Derivative of quadratic error function as\n",
    "**2*(prediction-target)**\n",
    "will be.<br>\n",
    "Because the data is in an ascending state, we add the derivatives and apply the addition for the update."
   ]
  },
  {
   "cell_type": "code",
   "execution_count": 25,
   "metadata": {
    "id": "bdGq-ILs359i"
   },
   "outputs": [],
   "source": [
    "#(quadratic error : (prediction-target)^2)\n",
    "def update_weights_quadratic_error(Bias,Weight,X,y,learning_rate):\n",
    "    m_deriv = 0\n",
    "    b_deriv = 0\n",
    "    for i in range(len(X)):\n",
    "      #yhat-y (In order to prevent the derivatives from becoming negative, we put a - sign)\n",
    "      m_deriv += -2*X[i]*((Weight*X[i]+Bias) - y[i]) \n",
    "\n",
    "      \n",
    "      b_deriv += -2*((Weight*X[i]+Bias)-y[i])\n",
    "    #update weight  \n",
    "    Weight += (m_deriv / float(len(X))) * learning_rate\n",
    "    Bias += (b_deriv / float(len(X))) * learning_rate\n",
    "    return Weight , Bias"
   ]
  },
  {
   "cell_type": "markdown",
   "metadata": {},
   "source": [
    "Test function for 3 iterations"
   ]
  },
  {
   "cell_type": "code",
   "execution_count": 26,
   "metadata": {
    "colab": {
     "base_uri": "https://localhost:8080/"
    },
    "id": "hbmbgDrvn6qk",
    "outputId": "9eb7bb4e-cee6-4b87-cd15-57472b3454fc"
   },
   "outputs": [
    {
     "name": "stdout",
     "output_type": "stream",
     "text": [
      "0.24 0.99\n",
      "0.24 0.99\n",
      "4.065133333333333 2.528533333333333\n",
      "1.8755802222222226 1.8977951111111109\n",
      "3.0072711622222217 2.458787047407407\n"
     ]
    }
   ],
   "source": [
    "b_qe =bias\n",
    "m_qe =weight\n",
    "iterations =3\n",
    "for i in range(iterations):\n",
    "  print(m_qe,b_qe)\n",
    "  m_qe,b_qe =update_weights_quadratic_error(b_qe,m_qe,x_input,y_output,0.1)\n",
    "print(m_qe,b_qe)"
   ]
  },
  {
   "cell_type": "code",
   "execution_count": 27,
   "metadata": {
    "colab": {
     "base_uri": "https://localhost:8080/",
     "height": 430
    },
    "id": "TLUzZu5PS343",
    "outputId": "e50837be-cccb-4638-d113-49e8c8acbdab",
    "scrolled": false
   },
   "outputs": [
    {
     "data": {
      "image/png": "[encoded data removed]",
      "text/plain": [
       "<Figure size 640x480 with 1 Axes>"
      ]
     },
     "metadata": {},
     "output_type": "display_data"
    }
   ],
   "source": [
    "plt.scatter(x,y,color='g')\n",
    "plt.xlabel(\"x as input\")\n",
    "plt.ylabel(\"y as output\")\n",
    "abline_values = [m_qe * i + b_qe for i in x]\n",
    "plt.plot(x,abline_values,color='k')\n",
    "plt.show()"
   ]
  },
  {
   "cell_type": "markdown",
   "metadata": {},
   "source": [
    "function for calcute absolute_error<br>\n",
    "We calculate the derivative of the function and make substitutions like the function above"
   ]
  },
  {
   "cell_type": "code",
   "execution_count": 28,
   "metadata": {
    "id": "-7v4RvEtTZnA"
   },
   "outputs": [],
   "source": [
    "#absolute error : |prediction-target|\n",
    "def update_weights_absolute_error(Bias,Weight,X,y,learning_rate):\n",
    "  m_deriv =0\n",
    "  b_deriv =0\n",
    "  for i in range(len(X)):\n",
    "    m_deriv +=  -X[i] * ((Weight*X[i] + Bias) - y[i]) / abs((Weight*X[i] + Bias) - y[i] )\n",
    "    b_deriv += -((Weight*X[i] + Bias) - y[i] ) / abs((Weight*X[i] + Bias) -y[i] )\n",
    "\n",
    "  Weight += (m_deriv / float(len(X))) * learning_rate\n",
    "  Bias += (b_deriv / float(len(X))) * learning_rate\n",
    "  return Weight , Bias"
   ]
  },
  {
   "cell_type": "code",
   "execution_count": 31,
   "metadata": {
    "colab": {
     "base_uri": "https://localhost:8080/"
    },
    "id": "kGIvC7D3i3aU",
    "outputId": "f101e4db-5709-48f2-a306-ea23345331af"
   },
   "outputs": [
    {
     "name": "stdout",
     "output_type": "stream",
     "text": [
      "0.24 0.99\n",
      "0.24 0.99\n",
      "0.4833333333333334 1.09\n",
      "0.7266666666666668 1.1900000000000002\n",
      "0.9700000000000002 1.2900000000000003\n"
     ]
    }
   ],
   "source": [
    "b_ab=bias\n",
    "m_ab=weight\n",
    "iterations =3\n",
    "for i in range(iterations):\n",
    "  print(m_ab,b_ab)\n",
    "  m_ab,b_ab =update_weights_absolute_error(b_ab,m_ab,x_input,y_output,0.1)\n",
    "print(m_ab,b_ab)"
   ]
  },
  {
   "cell_type": "code",
   "execution_count": 33,
   "metadata": {
    "colab": {
     "base_uri": "https://localhost:8080/",
     "height": 430
    },
    "id": "JadM2Qp4ljsS",
    "outputId": "6373344c-5795-43ab-f94e-e16d35c4d179"
   },
   "outputs": [
    {
     "data": {
      "image/png": "[encoded data removed]",
      "text/plain": [
       "<Figure size 640x480 with 1 Axes>"
      ]
     },
     "metadata": {},
     "output_type": "display_data"
    }
   ],
   "source": [
    "plt.scatter(x,y,color='r')\n",
    "plt.xlabel(\"x as input\")\n",
    "plt.ylabel(\"y as output\")\n",
    "abline_values = [m_ab * i + b_ab for i in x]\n",
    "plt.plot(x,abline_values,color='k')\n",
    "plt.show()"
   ]
  },
  {
   "cell_type": "code",
   "execution_count": null,
   "metadata": {},
   "outputs": [],
   "source": []
  }
 ],
 "metadata": {
  "colab": {
   "provenance": []
  },
  "kernelspec": {
   "display_name": "Python 3 (ipykernel)",
   "language": "python",
   "name": "python3"
  },
  "language_info": {
   "codemirror_mode": {
    "name": "ipython",
    "version": 3
   },
   "file_extension": ".py",
   "mimetype": "text/x-python",
   "name": "python",
   "nbconvert_exporter": "python",
   "pygments_lexer": "ipython3",
   "version": "3.10.11"
  }
 },
 "nbformat": 4,
 "nbformat_minor": 1
}
